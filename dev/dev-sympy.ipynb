{
 "cells": [
  {
   "cell_type": "markdown",
   "id": "166e6bcd",
   "metadata": {},
   "source": [
    "# Dev for expressions of quotient derivative\n",
    "\n",
    "Yuri Shimane, 2021.11.26"
   ]
  },
  {
   "cell_type": "code",
   "execution_count": 132,
   "id": "2477f316",
   "metadata": {},
   "outputs": [],
   "source": [
    "import numpy as np\n",
    "import sympy as sym\n",
    "import math\n",
    "from sympy import lambdify"
   ]
  },
  {
   "cell_type": "code",
   "execution_count": 49,
   "id": "095226af",
   "metadata": {},
   "outputs": [],
   "source": [
    "# define parameters\n",
    "rpmin, k_petro, m_petro, n_petro, r_petro, b_petro = sym.symbols(\"rpmin k_petro m_petro n_petro r_petro b_petro\")\n",
    "wp = sym.symbols(\"Wp\")\n",
    "mu = sym.symbols(\"mu\")\n",
    "f = sym.symbols(\"f\")"
   ]
  },
  {
   "cell_type": "code",
   "execution_count": 20,
   "id": "64bd8fcb",
   "metadata": {},
   "outputs": [],
   "source": [
    "# orbital elements\n",
    "a, e, i, ra, om, ta = sym.symbols(\"a e i Omega omega theta\")\n",
    "\n",
    "# targeted orbital elements\n",
    "aT, eT, iT, raT, omT, taT = sym.symbols(\"a_T e_T i_T Omega_T omega_T theta_T\")\n",
    "\n",
    "# weights on orbital elements\n",
    "wa, we, wi, wra, wom, wta = sym.symbols(\"w_a w_e w_i w_Omega w_omega w_theta\")"
   ]
  },
  {
   "cell_type": "code",
   "execution_count": 27,
   "id": "eec8c824",
   "metadata": {},
   "outputs": [
    {
     "data": {
      "text/plain": [
       "[a, e, i, Omega, omega, theta]"
      ]
     },
     "execution_count": 27,
     "metadata": {},
     "output_type": "execute_result"
    }
   ],
   "source": [
    "oe = [a,e,i,ra,om,ta]\n",
    "oe"
   ]
  },
  {
   "cell_type": "code",
   "execution_count": 34,
   "id": "a9cfaaf9",
   "metadata": {},
   "outputs": [
    {
     "data": {
      "text/plain": [
       "[a_T, e_T, i_T, Omega_T, omega_T, theta_T]"
      ]
     },
     "execution_count": 34,
     "metadata": {},
     "output_type": "execute_result"
    }
   ],
   "source": [
    "oeT = [aT, eT, iT, raT, omT, taT]\n",
    "oeT"
   ]
  },
  {
   "cell_type": "code",
   "execution_count": 52,
   "id": "8e3162c1",
   "metadata": {},
   "outputs": [
    {
     "data": {
      "text/plain": [
       "[w_a, w_e, w_i, w_Omega, w_omega, w_theta]"
      ]
     },
     "execution_count": 52,
     "metadata": {},
     "output_type": "execute_result"
    }
   ],
   "source": [
    "woe = [wa, we, wi, wra, wom, wta]\n",
    "woe"
   ]
  },
  {
   "cell_type": "code",
   "execution_count": 137,
   "id": "96967f4e",
   "metadata": {},
   "outputs": [],
   "source": [
    "phi1, phi2 = sym.symbols(\"phi1 phi2\")"
   ]
  },
  {
   "cell_type": "code",
   "execution_count": 138,
   "id": "e1bcd8c2",
   "metadata": {},
   "outputs": [],
   "source": [
    "def angle_difference(phi1, phi2):\n",
    "    return sym.acos(sym.cos(phi1 - phi2))"
   ]
  },
  {
   "cell_type": "code",
   "execution_count": 156,
   "id": "dce8b9f4",
   "metadata": {},
   "outputs": [],
   "source": [
    "expr = sym.sin(i) + sym.cos(i)"
   ]
  },
  {
   "cell_type": "code",
   "execution_count": 157,
   "id": "75b060c3",
   "metadata": {},
   "outputs": [],
   "source": [
    "foo = lambdify(i, expr)#, 'numpy')"
   ]
  },
  {
   "cell_type": "code",
   "execution_count": 155,
   "id": "a070dbde",
   "metadata": {},
   "outputs": [
    {
     "data": {
      "text/plain": [
       "1.2441961006175326"
      ]
     },
     "execution_count": 155,
     "metadata": {},
     "output_type": "execute_result"
    }
   ],
   "source": [
    "foo(0.29)"
   ]
  },
  {
   "cell_type": "code",
   "execution_count": 54,
   "id": "7edf4e97",
   "metadata": {},
   "outputs": [],
   "source": [
    "doe = [a-aT, e-eT, i-iT, \n",
    "       sym.acos(sym.cos(ra - raT)),\n",
    "       sym.acos(sym.cos(om - omT)),\n",
    "       sym.acos(sym.cos(ta - taT)),\n",
    "      ]"
   ]
  },
  {
   "cell_type": "code",
   "execution_count": 160,
   "id": "c4e6a553",
   "metadata": {},
   "outputs": [],
   "source": [
    "fun_doe = lambdify([a,e,i,ra,om,ta,aT,eT,iT,raT,omT,taT], doe)  # function version"
   ]
  },
  {
   "cell_type": "code",
   "execution_count": null,
   "id": "d4ac2381",
   "metadata": {},
   "outputs": [],
   "source": []
  },
  {
   "cell_type": "code",
   "execution_count": 209,
   "id": "4ce07c75",
   "metadata": {},
   "outputs": [],
   "source": [
    "def quotient(mu, f, oe, oeT, rpmin, m_petro, n_petro, r_petro, b_petro, wp, woe):\n",
    "    # unpack elements\n",
    "    a,e,i,ra,om,ta = oe\n",
    "    aT, eT, iT, raT, omT, taT = oeT\n",
    "    rp = a*(1-e)\n",
    "    p = a*(1 - e**2)\n",
    "    h = sym.sqrt(a*mu*(1-e**2))\n",
    "    doe = [a-aT, e-eT, i-iT, \n",
    "           sym.acos(sym.cos(ra - raT)),\n",
    "           sym.acos(sym.cos(om - omT)),\n",
    "           sym.acos(sym.cos(ta - taT)),\n",
    "          ]\n",
    "\n",
    "    # compute omdot\n",
    "    radot = p*f/(h*sym.sin(i)*(sym.sqrt(1 - e**2*sym.cos(om)**2) - e*abs(sym.sin(om))))\n",
    "    cos_ta_xx = ((1-e**2)/(2*e**3)+sym.sqrt(0.25*((1-e)**2/e**3)**2 + 1/27))**(1/3) \\\n",
    "                - (-(1-e**2)/(2*e**3)+sym.sqrt(0.25*((1-e)**2/e**3)**2 + 1/27))**(1/3) - 1/e\n",
    "    r_xx = p/(1+e*cos_ta_xx)\n",
    "    omdot_i = f/(e*h)*sym.sqrt(p**2*cos_ta_xx**2 + (p+r_xx)**2*(1-cos_ta_xx**2))\n",
    "    omdot_o = radot*abs(sym.cos(i))\n",
    "    omdot = (omdot_i + b_petro*omdot_o)/(1+b_petro)\n",
    "\n",
    "    # compute oedot\n",
    "    oedot = [\n",
    "        2*f*sym.sqrt(a**3 * (1+e)/(mu*(1-e))),\n",
    "        2*p*f/h,\n",
    "        p*f/(h*(sym.sqrt(1 - e**2*sym.sin(om)**2) - e*abs(sym.cos(om)))),\n",
    "        radot,\n",
    "        omdot,\n",
    "    ]\n",
    "    \n",
    "    # compute periapsis radius constraint P\n",
    "    p_rp = sym.exp(k*(1.0 - rp/rpmin))\n",
    "    # compute scaling for each element Soe\n",
    "    soe = [(1 + ((a-aT)/(m_petro*aT))**n_petro)**(1/r_petro), 1.0, 1.0, 1.0, 1.0, 1.0]\n",
    "    # compute quotient Q\n",
    "    q = (1 + wp*p_rp)\n",
    "    for idx in range(5):\n",
    "        q = q * woe[idx]*soe[idx]*(doe[idx]/oedot[idx])**2\n",
    "    fun_q = lambdify([mu, f, oe, oeT, rpmin, m_petro, n_petro, r_petro, b_petro, wp, woe], q, \"numpy\")\n",
    "    return q, fun_q"
   ]
  },
  {
   "cell_type": "code",
   "execution_count": 210,
   "id": "30d7ce19",
   "metadata": {},
   "outputs": [],
   "source": [
    "q, fun_q = quotient(mu, f, oe, oeT, rpmin, m_petro, n_petro, r_petro, b_petro, wp, woe)"
   ]
  },
  {
   "cell_type": "code",
   "execution_count": 211,
   "id": "14cd366b",
   "metadata": {},
   "outputs": [
    {
     "data": {
      "text/plain": [
       "<function _lambdifygenerated(mu, f, _Dummy_41, _Dummy_42, rpmin, m_petro, n_petro, r_petro, b_petro, Wp, _Dummy_43)>"
      ]
     },
     "execution_count": 211,
     "metadata": {},
     "output_type": "execute_result"
    }
   ],
   "source": [
    "fun_q"
   ]
  },
  {
   "cell_type": "code",
   "execution_count": 212,
   "id": "a735629a",
   "metadata": {},
   "outputs": [],
   "source": [
    "import math"
   ]
  },
  {
   "cell_type": "code",
   "execution_count": 213,
   "id": "efd24b39",
   "metadata": {},
   "outputs": [],
   "source": [
    "def gauss_var_matrix(mu,oe):\n",
    "     # unpack elements\n",
    "    a,e,i,ra,om,ta = oe\n",
    "    rp = a*(1-e)\n",
    "    p = a*(1 - e**2)\n",
    "    h = sym.sqrt(a*mu*(1-e**2))\n",
    "    r = h**2/(mu*(1+e*sym.cos(ta)))\n",
    "    # let psi be column major!\n",
    "    psi = [\n",
    "        [\n",
    "            2*a**2/h*e*sym.sin(ta),\n",
    "            p/h*sym.sin(ta),\n",
    "            0.0,\n",
    "            0.0,\n",
    "            -p/(e*h)*sym.cos(ta)\n",
    "        ], \n",
    "        [\n",
    "            2*a**2/h * p/r,\n",
    "            (p+r)/h*sym.cos(ta) + r*e,\n",
    "            0.0,\n",
    "            0.0,\n",
    "            (p+r)/(e*h)*sym.sin(ta)\n",
    "        ], \n",
    "        [\n",
    "            0.0,\n",
    "            0.0,\n",
    "            r*sym.cos(ta+om)/h,\n",
    "            r*sym.sin(ta+om)/(h*sym.sin(i)),\n",
    "            -r*sym.sin(ta+om)*sym.cos(i)/(h*sym.sin(i)),\n",
    "        ]\n",
    "    ]\n",
    "    fun_psi = lambdify([mu,oe],psi,\"numpy\")\n",
    "    return psi, fun_psi"
   ]
  },
  {
   "cell_type": "code",
   "execution_count": 214,
   "id": "418fdaf2",
   "metadata": {},
   "outputs": [],
   "source": [
    "psi, fun_psi = gauss_var_matrix(mu,oe)"
   ]
  },
  {
   "cell_type": "code",
   "execution_count": 215,
   "id": "8c3a34c8",
   "metadata": {},
   "outputs": [
    {
     "data": {
      "text/plain": [
       "[2*a**2*e*sin(theta)/sqrt(a*mu*(1 - e**2)),\n",
       " a*(1 - e**2)*sin(theta)/sqrt(a*mu*(1 - e**2)),\n",
       " 0.0,\n",
       " 0.0,\n",
       " -a*(1 - e**2)*cos(theta)/(e*sqrt(a*mu*(1 - e**2)))]"
      ]
     },
     "execution_count": 215,
     "metadata": {},
     "output_type": "execute_result"
    }
   ],
   "source": [
    "psi[0]"
   ]
  },
  {
   "cell_type": "code",
   "execution_count": 216,
   "id": "e958a811",
   "metadata": {},
   "outputs": [
    {
     "data": {
      "text/plain": [
       "<function _lambdifygenerated(mu, _Dummy_44)>"
      ]
     },
     "execution_count": 216,
     "metadata": {},
     "output_type": "execute_result"
    }
   ],
   "source": [
    "fun_psi"
   ]
  },
  {
   "cell_type": "code",
   "execution_count": 217,
   "id": "fcc20cd5",
   "metadata": {},
   "outputs": [],
   "source": [
    "def thrust_direction(q, oe):\n",
    "    dqdoe = []\n",
    "    for idx in range(5):\n",
    "        dqdoe.append(sym.diff(q, oe[idx]))\n",
    "    psi = gauss_var_matrix(mu,oe)\n",
    "    # multiply\n",
    "    ux = -(psi[0][0]*dqdoe[0] + psi[0][1]*dqdoe[1] + psi[0][2]*dqdoe[2] + psi[0][3]*dqdoe[3] + psi[0][4]*dqdoe[4])\n",
    "    uy = -(psi[1][0]*dqdoe[0] + psi[1][1]*dqdoe[1] + psi[1][2]*dqdoe[2] + psi[1][3]*dqdoe[3] + psi[1][4]*dqdoe[4])\n",
    "    uz = -(psi[2][0]*dqdoe[0] + psi[2][1]*dqdoe[1] + psi[2][2]*dqdoe[2] + psi[2][3]*dqdoe[3] + psi[2][4]*dqdoe[4])\n",
    "    fun_ux = lambdify([q,oe], ux)\n",
    "    fun_uy = lambdify([q,oe], uy)\n",
    "    fun_uz = lambdify([q,oe], uz)\n",
    "    return [ux,uy,uz], [fun_ux, fun_uy, fun_uz]"
   ]
  },
  {
   "cell_type": "code",
   "execution_count": 218,
   "id": "5852e9c3",
   "metadata": {},
   "outputs": [
    {
     "ename": "TypeError",
     "evalue": "can't multiply sequence by non-int of type 'Add'",
     "output_type": "error",
     "traceback": [
      "\u001b[1;31m---------------------------------------------------------------------------\u001b[0m",
      "\u001b[1;31mTypeError\u001b[0m                                 Traceback (most recent call last)",
      "\u001b[1;32m~\\AppData\\Local\\Temp/ipykernel_13332/3924668507.py\u001b[0m in \u001b[0;36m<module>\u001b[1;34m\u001b[0m\n\u001b[1;32m----> 1\u001b[1;33m \u001b[0mus\u001b[0m\u001b[1;33m,\u001b[0m \u001b[0mfun_us\u001b[0m \u001b[1;33m=\u001b[0m \u001b[0mthrust_direction\u001b[0m\u001b[1;33m(\u001b[0m\u001b[0mq\u001b[0m\u001b[1;33m,\u001b[0m \u001b[0moe\u001b[0m\u001b[1;33m)\u001b[0m\u001b[1;33m\u001b[0m\u001b[1;33m\u001b[0m\u001b[0m\n\u001b[0m",
      "\u001b[1;32m~\\AppData\\Local\\Temp/ipykernel_13332/2732689996.py\u001b[0m in \u001b[0;36mthrust_direction\u001b[1;34m(q, oe)\u001b[0m\n\u001b[0;32m      5\u001b[0m     \u001b[0mpsi\u001b[0m \u001b[1;33m=\u001b[0m \u001b[0mgauss_var_matrix\u001b[0m\u001b[1;33m(\u001b[0m\u001b[0mmu\u001b[0m\u001b[1;33m,\u001b[0m\u001b[0moe\u001b[0m\u001b[1;33m)\u001b[0m\u001b[1;33m\u001b[0m\u001b[1;33m\u001b[0m\u001b[0m\n\u001b[0;32m      6\u001b[0m     \u001b[1;31m# multiply\u001b[0m\u001b[1;33m\u001b[0m\u001b[1;33m\u001b[0m\u001b[1;33m\u001b[0m\u001b[0m\n\u001b[1;32m----> 7\u001b[1;33m     \u001b[0mux\u001b[0m \u001b[1;33m=\u001b[0m \u001b[1;33m-\u001b[0m\u001b[1;33m(\u001b[0m\u001b[0mpsi\u001b[0m\u001b[1;33m[\u001b[0m\u001b[1;36m0\u001b[0m\u001b[1;33m]\u001b[0m\u001b[1;33m[\u001b[0m\u001b[1;36m0\u001b[0m\u001b[1;33m]\u001b[0m\u001b[1;33m*\u001b[0m\u001b[0mdqdoe\u001b[0m\u001b[1;33m[\u001b[0m\u001b[1;36m0\u001b[0m\u001b[1;33m]\u001b[0m \u001b[1;33m+\u001b[0m \u001b[0mpsi\u001b[0m\u001b[1;33m[\u001b[0m\u001b[1;36m0\u001b[0m\u001b[1;33m]\u001b[0m\u001b[1;33m[\u001b[0m\u001b[1;36m1\u001b[0m\u001b[1;33m]\u001b[0m\u001b[1;33m*\u001b[0m\u001b[0mdqdoe\u001b[0m\u001b[1;33m[\u001b[0m\u001b[1;36m1\u001b[0m\u001b[1;33m]\u001b[0m \u001b[1;33m+\u001b[0m \u001b[0mpsi\u001b[0m\u001b[1;33m[\u001b[0m\u001b[1;36m0\u001b[0m\u001b[1;33m]\u001b[0m\u001b[1;33m[\u001b[0m\u001b[1;36m2\u001b[0m\u001b[1;33m]\u001b[0m\u001b[1;33m*\u001b[0m\u001b[0mdqdoe\u001b[0m\u001b[1;33m[\u001b[0m\u001b[1;36m2\u001b[0m\u001b[1;33m]\u001b[0m \u001b[1;33m+\u001b[0m \u001b[0mpsi\u001b[0m\u001b[1;33m[\u001b[0m\u001b[1;36m0\u001b[0m\u001b[1;33m]\u001b[0m\u001b[1;33m[\u001b[0m\u001b[1;36m3\u001b[0m\u001b[1;33m]\u001b[0m\u001b[1;33m*\u001b[0m\u001b[0mdqdoe\u001b[0m\u001b[1;33m[\u001b[0m\u001b[1;36m3\u001b[0m\u001b[1;33m]\u001b[0m \u001b[1;33m+\u001b[0m \u001b[0mpsi\u001b[0m\u001b[1;33m[\u001b[0m\u001b[1;36m0\u001b[0m\u001b[1;33m]\u001b[0m\u001b[1;33m[\u001b[0m\u001b[1;36m4\u001b[0m\u001b[1;33m]\u001b[0m\u001b[1;33m*\u001b[0m\u001b[0mdqdoe\u001b[0m\u001b[1;33m[\u001b[0m\u001b[1;36m4\u001b[0m\u001b[1;33m]\u001b[0m\u001b[1;33m)\u001b[0m\u001b[1;33m\u001b[0m\u001b[1;33m\u001b[0m\u001b[0m\n\u001b[0m\u001b[0;32m      8\u001b[0m     \u001b[0muy\u001b[0m \u001b[1;33m=\u001b[0m \u001b[1;33m-\u001b[0m\u001b[1;33m(\u001b[0m\u001b[0mpsi\u001b[0m\u001b[1;33m[\u001b[0m\u001b[1;36m1\u001b[0m\u001b[1;33m]\u001b[0m\u001b[1;33m[\u001b[0m\u001b[1;36m0\u001b[0m\u001b[1;33m]\u001b[0m\u001b[1;33m*\u001b[0m\u001b[0mdqdoe\u001b[0m\u001b[1;33m[\u001b[0m\u001b[1;36m0\u001b[0m\u001b[1;33m]\u001b[0m \u001b[1;33m+\u001b[0m \u001b[0mpsi\u001b[0m\u001b[1;33m[\u001b[0m\u001b[1;36m1\u001b[0m\u001b[1;33m]\u001b[0m\u001b[1;33m[\u001b[0m\u001b[1;36m1\u001b[0m\u001b[1;33m]\u001b[0m\u001b[1;33m*\u001b[0m\u001b[0mdqdoe\u001b[0m\u001b[1;33m[\u001b[0m\u001b[1;36m1\u001b[0m\u001b[1;33m]\u001b[0m \u001b[1;33m+\u001b[0m \u001b[0mpsi\u001b[0m\u001b[1;33m[\u001b[0m\u001b[1;36m1\u001b[0m\u001b[1;33m]\u001b[0m\u001b[1;33m[\u001b[0m\u001b[1;36m2\u001b[0m\u001b[1;33m]\u001b[0m\u001b[1;33m*\u001b[0m\u001b[0mdqdoe\u001b[0m\u001b[1;33m[\u001b[0m\u001b[1;36m2\u001b[0m\u001b[1;33m]\u001b[0m \u001b[1;33m+\u001b[0m \u001b[0mpsi\u001b[0m\u001b[1;33m[\u001b[0m\u001b[1;36m1\u001b[0m\u001b[1;33m]\u001b[0m\u001b[1;33m[\u001b[0m\u001b[1;36m3\u001b[0m\u001b[1;33m]\u001b[0m\u001b[1;33m*\u001b[0m\u001b[0mdqdoe\u001b[0m\u001b[1;33m[\u001b[0m\u001b[1;36m3\u001b[0m\u001b[1;33m]\u001b[0m \u001b[1;33m+\u001b[0m \u001b[0mpsi\u001b[0m\u001b[1;33m[\u001b[0m\u001b[1;36m1\u001b[0m\u001b[1;33m]\u001b[0m\u001b[1;33m[\u001b[0m\u001b[1;36m4\u001b[0m\u001b[1;33m]\u001b[0m\u001b[1;33m*\u001b[0m\u001b[0mdqdoe\u001b[0m\u001b[1;33m[\u001b[0m\u001b[1;36m4\u001b[0m\u001b[1;33m]\u001b[0m\u001b[1;33m)\u001b[0m\u001b[1;33m\u001b[0m\u001b[1;33m\u001b[0m\u001b[0m\n\u001b[0;32m      9\u001b[0m     \u001b[0muz\u001b[0m \u001b[1;33m=\u001b[0m \u001b[1;33m-\u001b[0m\u001b[1;33m(\u001b[0m\u001b[0mpsi\u001b[0m\u001b[1;33m[\u001b[0m\u001b[1;36m2\u001b[0m\u001b[1;33m]\u001b[0m\u001b[1;33m[\u001b[0m\u001b[1;36m0\u001b[0m\u001b[1;33m]\u001b[0m\u001b[1;33m*\u001b[0m\u001b[0mdqdoe\u001b[0m\u001b[1;33m[\u001b[0m\u001b[1;36m0\u001b[0m\u001b[1;33m]\u001b[0m \u001b[1;33m+\u001b[0m \u001b[0mpsi\u001b[0m\u001b[1;33m[\u001b[0m\u001b[1;36m2\u001b[0m\u001b[1;33m]\u001b[0m\u001b[1;33m[\u001b[0m\u001b[1;36m1\u001b[0m\u001b[1;33m]\u001b[0m\u001b[1;33m*\u001b[0m\u001b[0mdqdoe\u001b[0m\u001b[1;33m[\u001b[0m\u001b[1;36m1\u001b[0m\u001b[1;33m]\u001b[0m \u001b[1;33m+\u001b[0m \u001b[0mpsi\u001b[0m\u001b[1;33m[\u001b[0m\u001b[1;36m2\u001b[0m\u001b[1;33m]\u001b[0m\u001b[1;33m[\u001b[0m\u001b[1;36m2\u001b[0m\u001b[1;33m]\u001b[0m\u001b[1;33m*\u001b[0m\u001b[0mdqdoe\u001b[0m\u001b[1;33m[\u001b[0m\u001b[1;36m2\u001b[0m\u001b[1;33m]\u001b[0m \u001b[1;33m+\u001b[0m \u001b[0mpsi\u001b[0m\u001b[1;33m[\u001b[0m\u001b[1;36m2\u001b[0m\u001b[1;33m]\u001b[0m\u001b[1;33m[\u001b[0m\u001b[1;36m3\u001b[0m\u001b[1;33m]\u001b[0m\u001b[1;33m*\u001b[0m\u001b[0mdqdoe\u001b[0m\u001b[1;33m[\u001b[0m\u001b[1;36m3\u001b[0m\u001b[1;33m]\u001b[0m \u001b[1;33m+\u001b[0m \u001b[0mpsi\u001b[0m\u001b[1;33m[\u001b[0m\u001b[1;36m2\u001b[0m\u001b[1;33m]\u001b[0m\u001b[1;33m[\u001b[0m\u001b[1;36m4\u001b[0m\u001b[1;33m]\u001b[0m\u001b[1;33m*\u001b[0m\u001b[0mdqdoe\u001b[0m\u001b[1;33m[\u001b[0m\u001b[1;36m4\u001b[0m\u001b[1;33m]\u001b[0m\u001b[1;33m)\u001b[0m\u001b[1;33m\u001b[0m\u001b[1;33m\u001b[0m\u001b[0m\n",
      "\u001b[1;31mTypeError\u001b[0m: can't multiply sequence by non-int of type 'Add'"
     ]
    }
   ],
   "source": [
    "us, fun_us = thrust_direction(q, oe)"
   ]
  },
  {
   "cell_type": "code",
   "execution_count": null,
   "id": "b2aec3b0",
   "metadata": {},
   "outputs": [],
   "source": []
  },
  {
   "cell_type": "code",
   "execution_count": 219,
   "id": "3ccb9476",
   "metadata": {},
   "outputs": [
    {
     "ename": "SympifyError",
     "evalue": "Sympify of expression 'could not parse '<function thrust_direction at 0x000001B14DDA1DC0>'' failed, because of exception being raised:\nSyntaxError: invalid syntax (<string>, line 1)",
     "output_type": "error",
     "traceback": [
      "\u001b[1;31m---------------------------------------------------------------------------\u001b[0m",
      "\u001b[1;31mValueError\u001b[0m                                Traceback (most recent call last)",
      "\u001b[1;31mValueError\u001b[0m: Error from parse_expr with transformed code: \"<Symbol ('function' )Symbol ('thrust_direction' )Symbol ('at' )Integer (0x000001B14DDA1DC0 )>\"",
      "\nThe above exception was the direct cause of the following exception:\n",
      "\u001b[1;31mSyntaxError\u001b[0m                               Traceback (most recent call last)",
      "\u001b[1;32m~\\miniconda3\\envs\\dev\\lib\\site-packages\\sympy\\core\\sympify.py\u001b[0m in \u001b[0;36msympify\u001b[1;34m(a, locals, convert_xor, strict, rational, evaluate)\u001b[0m\n\u001b[0;32m    471\u001b[0m         \u001b[0ma\u001b[0m \u001b[1;33m=\u001b[0m \u001b[0ma\u001b[0m\u001b[1;33m.\u001b[0m\u001b[0mreplace\u001b[0m\u001b[1;33m(\u001b[0m\u001b[1;34m'\\n'\u001b[0m\u001b[1;33m,\u001b[0m \u001b[1;34m''\u001b[0m\u001b[1;33m)\u001b[0m\u001b[1;33m\u001b[0m\u001b[1;33m\u001b[0m\u001b[0m\n\u001b[1;32m--> 472\u001b[1;33m         \u001b[0mexpr\u001b[0m \u001b[1;33m=\u001b[0m \u001b[0mparse_expr\u001b[0m\u001b[1;33m(\u001b[0m\u001b[0ma\u001b[0m\u001b[1;33m,\u001b[0m \u001b[0mlocal_dict\u001b[0m\u001b[1;33m=\u001b[0m\u001b[0mlocals\u001b[0m\u001b[1;33m,\u001b[0m \u001b[0mtransformations\u001b[0m\u001b[1;33m=\u001b[0m\u001b[0mtransformations\u001b[0m\u001b[1;33m,\u001b[0m \u001b[0mevaluate\u001b[0m\u001b[1;33m=\u001b[0m\u001b[0mevaluate\u001b[0m\u001b[1;33m)\u001b[0m\u001b[1;33m\u001b[0m\u001b[1;33m\u001b[0m\u001b[0m\n\u001b[0m\u001b[0;32m    473\u001b[0m     \u001b[1;32mexcept\u001b[0m \u001b[1;33m(\u001b[0m\u001b[0mTokenError\u001b[0m\u001b[1;33m,\u001b[0m \u001b[0mSyntaxError\u001b[0m\u001b[1;33m)\u001b[0m \u001b[1;32mas\u001b[0m \u001b[0mexc\u001b[0m\u001b[1;33m:\u001b[0m\u001b[1;33m\u001b[0m\u001b[1;33m\u001b[0m\u001b[0m\n",
      "\u001b[1;32m~\\miniconda3\\envs\\dev\\lib\\site-packages\\sympy\\parsing\\sympy_parser.py\u001b[0m in \u001b[0;36mparse_expr\u001b[1;34m(s, local_dict, transformations, global_dict, evaluate)\u001b[0m\n\u001b[0;32m   1025\u001b[0m             \u001b[0mlocal_dict\u001b[0m\u001b[1;33m[\u001b[0m\u001b[0mi\u001b[0m\u001b[1;33m]\u001b[0m \u001b[1;33m=\u001b[0m \u001b[1;32mNone\u001b[0m\u001b[1;33m\u001b[0m\u001b[1;33m\u001b[0m\u001b[0m\n\u001b[1;32m-> 1026\u001b[1;33m         \u001b[1;32mraise\u001b[0m \u001b[0me\u001b[0m \u001b[1;32mfrom\u001b[0m \u001b[0mValueError\u001b[0m\u001b[1;33m(\u001b[0m\u001b[1;34mf\"Error from parse_expr with transformed code: {code!r}\"\u001b[0m\u001b[1;33m)\u001b[0m\u001b[1;33m\u001b[0m\u001b[1;33m\u001b[0m\u001b[0m\n\u001b[0m\u001b[0;32m   1027\u001b[0m \u001b[1;33m\u001b[0m\u001b[0m\n",
      "\u001b[1;32m~\\miniconda3\\envs\\dev\\lib\\site-packages\\sympy\\parsing\\sympy_parser.py\u001b[0m in \u001b[0;36mparse_expr\u001b[1;34m(s, local_dict, transformations, global_dict, evaluate)\u001b[0m\n\u001b[0;32m   1016\u001b[0m     \u001b[1;32mtry\u001b[0m\u001b[1;33m:\u001b[0m\u001b[1;33m\u001b[0m\u001b[1;33m\u001b[0m\u001b[0m\n\u001b[1;32m-> 1017\u001b[1;33m         \u001b[0mrv\u001b[0m \u001b[1;33m=\u001b[0m \u001b[0meval_expr\u001b[0m\u001b[1;33m(\u001b[0m\u001b[0mcode\u001b[0m\u001b[1;33m,\u001b[0m \u001b[0mlocal_dict\u001b[0m\u001b[1;33m,\u001b[0m \u001b[0mglobal_dict\u001b[0m\u001b[1;33m)\u001b[0m\u001b[1;33m\u001b[0m\u001b[1;33m\u001b[0m\u001b[0m\n\u001b[0m\u001b[0;32m   1018\u001b[0m         \u001b[1;31m# restore neutral definitions for names\u001b[0m\u001b[1;33m\u001b[0m\u001b[1;33m\u001b[0m\u001b[1;33m\u001b[0m\u001b[0m\n",
      "\u001b[1;32m~\\miniconda3\\envs\\dev\\lib\\site-packages\\sympy\\parsing\\sympy_parser.py\u001b[0m in \u001b[0;36meval_expr\u001b[1;34m(code, local_dict, global_dict)\u001b[0m\n\u001b[0;32m    910\u001b[0m     \"\"\"\n\u001b[1;32m--> 911\u001b[1;33m     expr = eval(\n\u001b[0m\u001b[0;32m    912\u001b[0m         code, global_dict, local_dict)  # take local objects in preference\n",
      "\u001b[1;31mSyntaxError\u001b[0m: invalid syntax (<string>, line 1)",
      "\nDuring handling of the above exception, another exception occurred:\n",
      "\u001b[1;31mSympifyError\u001b[0m                              Traceback (most recent call last)",
      "\u001b[1;32m~\\AppData\\Local\\Temp/ipykernel_13332/4067318390.py\u001b[0m in \u001b[0;36m<module>\u001b[1;34m\u001b[0m\n\u001b[1;32m----> 1\u001b[1;33m \u001b[0mlambdify\u001b[0m\u001b[1;33m(\u001b[0m\u001b[1;33m[\u001b[0m\u001b[0mq\u001b[0m\u001b[1;33m,\u001b[0m\u001b[0moe\u001b[0m\u001b[1;33m]\u001b[0m\u001b[1;33m,\u001b[0m \u001b[0mthrust_direction\u001b[0m\u001b[1;33m,\u001b[0m \u001b[1;34m'numpy'\u001b[0m\u001b[1;33m)\u001b[0m\u001b[1;33m\u001b[0m\u001b[1;33m\u001b[0m\u001b[0m\n\u001b[0m",
      "\u001b[1;32m~\\miniconda3\\envs\\dev\\lib\\site-packages\\sympy\\utilities\\lambdify.py\u001b[0m in \u001b[0;36mlambdify\u001b[1;34m(args, expr, modules, printer, use_imps, dummify, cse)\u001b[0m\n\u001b[0;32m    865\u001b[0m     \u001b[1;32melse\u001b[0m\u001b[1;33m:\u001b[0m\u001b[1;33m\u001b[0m\u001b[1;33m\u001b[0m\u001b[0m\n\u001b[0;32m    866\u001b[0m         \u001b[0mcses\u001b[0m\u001b[1;33m,\u001b[0m \u001b[0m_expr\u001b[0m \u001b[1;33m=\u001b[0m \u001b[1;33m(\u001b[0m\u001b[1;33m)\u001b[0m\u001b[1;33m,\u001b[0m \u001b[0mexpr\u001b[0m\u001b[1;33m\u001b[0m\u001b[1;33m\u001b[0m\u001b[0m\n\u001b[1;32m--> 867\u001b[1;33m     \u001b[0mfuncstr\u001b[0m \u001b[1;33m=\u001b[0m \u001b[0mfuncprinter\u001b[0m\u001b[1;33m.\u001b[0m\u001b[0mdoprint\u001b[0m\u001b[1;33m(\u001b[0m\u001b[0mfuncname\u001b[0m\u001b[1;33m,\u001b[0m \u001b[0margs\u001b[0m\u001b[1;33m,\u001b[0m \u001b[0m_expr\u001b[0m\u001b[1;33m,\u001b[0m \u001b[0mcses\u001b[0m\u001b[1;33m=\u001b[0m\u001b[0mcses\u001b[0m\u001b[1;33m)\u001b[0m\u001b[1;33m\u001b[0m\u001b[1;33m\u001b[0m\u001b[0m\n\u001b[0m\u001b[0;32m    868\u001b[0m \u001b[1;33m\u001b[0m\u001b[0m\n\u001b[0;32m    869\u001b[0m     \u001b[1;31m# Collect the module imports from the code printers.\u001b[0m\u001b[1;33m\u001b[0m\u001b[1;33m\u001b[0m\u001b[1;33m\u001b[0m\u001b[0m\n",
      "\u001b[1;32m~\\miniconda3\\envs\\dev\\lib\\site-packages\\sympy\\utilities\\lambdify.py\u001b[0m in \u001b[0;36mdoprint\u001b[1;34m(self, funcname, args, expr, cses)\u001b[0m\n\u001b[0;32m   1111\u001b[0m         \u001b[0mfuncbody\u001b[0m\u001b[1;33m.\u001b[0m\u001b[0mextend\u001b[0m\u001b[1;33m(\u001b[0m\u001b[1;33m[\u001b[0m\u001b[1;34m'{} = {}'\u001b[0m\u001b[1;33m.\u001b[0m\u001b[0mformat\u001b[0m\u001b[1;33m(\u001b[0m\u001b[0ms\u001b[0m\u001b[1;33m,\u001b[0m \u001b[0mself\u001b[0m\u001b[1;33m.\u001b[0m\u001b[0m_exprrepr\u001b[0m\u001b[1;33m(\u001b[0m\u001b[0me\u001b[0m\u001b[1;33m)\u001b[0m\u001b[1;33m)\u001b[0m \u001b[1;32mfor\u001b[0m \u001b[0ms\u001b[0m\u001b[1;33m,\u001b[0m \u001b[0me\u001b[0m \u001b[1;32min\u001b[0m \u001b[0mcses\u001b[0m\u001b[1;33m]\u001b[0m\u001b[1;33m)\u001b[0m\u001b[1;33m\u001b[0m\u001b[1;33m\u001b[0m\u001b[0m\n\u001b[0;32m   1112\u001b[0m \u001b[1;33m\u001b[0m\u001b[0m\n\u001b[1;32m-> 1113\u001b[1;33m         \u001b[0mstr_expr\u001b[0m \u001b[1;33m=\u001b[0m \u001b[0mself\u001b[0m\u001b[1;33m.\u001b[0m\u001b[0m_exprrepr\u001b[0m\u001b[1;33m(\u001b[0m\u001b[0mexpr\u001b[0m\u001b[1;33m)\u001b[0m\u001b[1;33m\u001b[0m\u001b[1;33m\u001b[0m\u001b[0m\n\u001b[0m\u001b[0;32m   1114\u001b[0m         \u001b[1;32mif\u001b[0m \u001b[1;34m'\\n'\u001b[0m \u001b[1;32min\u001b[0m \u001b[0mstr_expr\u001b[0m\u001b[1;33m:\u001b[0m\u001b[1;33m\u001b[0m\u001b[1;33m\u001b[0m\u001b[0m\n\u001b[0;32m   1115\u001b[0m             \u001b[0mstr_expr\u001b[0m \u001b[1;33m=\u001b[0m \u001b[1;34m'({})'\u001b[0m\u001b[1;33m.\u001b[0m\u001b[0mformat\u001b[0m\u001b[1;33m(\u001b[0m\u001b[0mstr_expr\u001b[0m\u001b[1;33m)\u001b[0m\u001b[1;33m\u001b[0m\u001b[1;33m\u001b[0m\u001b[0m\n",
      "\u001b[1;32m~\\miniconda3\\envs\\dev\\lib\\site-packages\\sympy\\printing\\codeprinter.py\u001b[0m in \u001b[0;36mdoprint\u001b[1;34m(self, expr, assign_to)\u001b[0m\n\u001b[0;32m    101\u001b[0m             \u001b[1;32mreturn\u001b[0m \u001b[0mAssignment\u001b[0m\u001b[1;33m(\u001b[0m\u001b[0massign_to\u001b[0m\u001b[1;33m,\u001b[0m \u001b[0mexpr\u001b[0m\u001b[1;33m)\u001b[0m\u001b[1;33m\u001b[0m\u001b[1;33m\u001b[0m\u001b[0m\n\u001b[0;32m    102\u001b[0m \u001b[1;33m\u001b[0m\u001b[0m\n\u001b[1;32m--> 103\u001b[1;33m         \u001b[0mexpr\u001b[0m \u001b[1;33m=\u001b[0m \u001b[0m_handle_assign_to\u001b[0m\u001b[1;33m(\u001b[0m\u001b[0mexpr\u001b[0m\u001b[1;33m,\u001b[0m \u001b[0massign_to\u001b[0m\u001b[1;33m)\u001b[0m\u001b[1;33m\u001b[0m\u001b[1;33m\u001b[0m\u001b[0m\n\u001b[0m\u001b[0;32m    104\u001b[0m \u001b[1;33m\u001b[0m\u001b[0m\n\u001b[0;32m    105\u001b[0m         \u001b[1;31m# keep a set of expressions that are not strictly translatable to Code\u001b[0m\u001b[1;33m\u001b[0m\u001b[1;33m\u001b[0m\u001b[1;33m\u001b[0m\u001b[0m\n",
      "\u001b[1;32m~\\miniconda3\\envs\\dev\\lib\\site-packages\\sympy\\printing\\codeprinter.py\u001b[0m in \u001b[0;36m_handle_assign_to\u001b[1;34m(expr, assign_to)\u001b[0m\n\u001b[0;32m     86\u001b[0m         \u001b[1;32mdef\u001b[0m \u001b[0m_handle_assign_to\u001b[0m\u001b[1;33m(\u001b[0m\u001b[0mexpr\u001b[0m\u001b[1;33m,\u001b[0m \u001b[0massign_to\u001b[0m\u001b[1;33m)\u001b[0m\u001b[1;33m:\u001b[0m\u001b[1;33m\u001b[0m\u001b[1;33m\u001b[0m\u001b[0m\n\u001b[0;32m     87\u001b[0m             \u001b[1;32mif\u001b[0m \u001b[0massign_to\u001b[0m \u001b[1;32mis\u001b[0m \u001b[1;32mNone\u001b[0m\u001b[1;33m:\u001b[0m\u001b[1;33m\u001b[0m\u001b[1;33m\u001b[0m\u001b[0m\n\u001b[1;32m---> 88\u001b[1;33m                 \u001b[1;32mreturn\u001b[0m \u001b[0msympify\u001b[0m\u001b[1;33m(\u001b[0m\u001b[0mexpr\u001b[0m\u001b[1;33m)\u001b[0m\u001b[1;33m\u001b[0m\u001b[1;33m\u001b[0m\u001b[0m\n\u001b[0m\u001b[0;32m     89\u001b[0m             \u001b[1;32mif\u001b[0m \u001b[0misinstance\u001b[0m\u001b[1;33m(\u001b[0m\u001b[0massign_to\u001b[0m\u001b[1;33m,\u001b[0m \u001b[1;33m(\u001b[0m\u001b[0mlist\u001b[0m\u001b[1;33m,\u001b[0m \u001b[0mtuple\u001b[0m\u001b[1;33m)\u001b[0m\u001b[1;33m)\u001b[0m\u001b[1;33m:\u001b[0m\u001b[1;33m\u001b[0m\u001b[1;33m\u001b[0m\u001b[0m\n\u001b[0;32m     90\u001b[0m                 \u001b[1;32mif\u001b[0m \u001b[0mlen\u001b[0m\u001b[1;33m(\u001b[0m\u001b[0mexpr\u001b[0m\u001b[1;33m)\u001b[0m \u001b[1;33m!=\u001b[0m \u001b[0mlen\u001b[0m\u001b[1;33m(\u001b[0m\u001b[0massign_to\u001b[0m\u001b[1;33m)\u001b[0m\u001b[1;33m:\u001b[0m\u001b[1;33m\u001b[0m\u001b[1;33m\u001b[0m\u001b[0m\n",
      "\u001b[1;32m~\\miniconda3\\envs\\dev\\lib\\site-packages\\sympy\\core\\sympify.py\u001b[0m in \u001b[0;36msympify\u001b[1;34m(a, locals, convert_xor, strict, rational, evaluate)\u001b[0m\n\u001b[0;32m    472\u001b[0m         \u001b[0mexpr\u001b[0m \u001b[1;33m=\u001b[0m \u001b[0mparse_expr\u001b[0m\u001b[1;33m(\u001b[0m\u001b[0ma\u001b[0m\u001b[1;33m,\u001b[0m \u001b[0mlocal_dict\u001b[0m\u001b[1;33m=\u001b[0m\u001b[0mlocals\u001b[0m\u001b[1;33m,\u001b[0m \u001b[0mtransformations\u001b[0m\u001b[1;33m=\u001b[0m\u001b[0mtransformations\u001b[0m\u001b[1;33m,\u001b[0m \u001b[0mevaluate\u001b[0m\u001b[1;33m=\u001b[0m\u001b[0mevaluate\u001b[0m\u001b[1;33m)\u001b[0m\u001b[1;33m\u001b[0m\u001b[1;33m\u001b[0m\u001b[0m\n\u001b[0;32m    473\u001b[0m     \u001b[1;32mexcept\u001b[0m \u001b[1;33m(\u001b[0m\u001b[0mTokenError\u001b[0m\u001b[1;33m,\u001b[0m \u001b[0mSyntaxError\u001b[0m\u001b[1;33m)\u001b[0m \u001b[1;32mas\u001b[0m \u001b[0mexc\u001b[0m\u001b[1;33m:\u001b[0m\u001b[1;33m\u001b[0m\u001b[1;33m\u001b[0m\u001b[0m\n\u001b[1;32m--> 474\u001b[1;33m         \u001b[1;32mraise\u001b[0m \u001b[0mSympifyError\u001b[0m\u001b[1;33m(\u001b[0m\u001b[1;34m'could not parse %r'\u001b[0m \u001b[1;33m%\u001b[0m \u001b[0ma\u001b[0m\u001b[1;33m,\u001b[0m \u001b[0mexc\u001b[0m\u001b[1;33m)\u001b[0m\u001b[1;33m\u001b[0m\u001b[1;33m\u001b[0m\u001b[0m\n\u001b[0m\u001b[0;32m    475\u001b[0m \u001b[1;33m\u001b[0m\u001b[0m\n\u001b[0;32m    476\u001b[0m     \u001b[1;32mreturn\u001b[0m \u001b[0mexpr\u001b[0m\u001b[1;33m\u001b[0m\u001b[1;33m\u001b[0m\u001b[0m\n",
      "\u001b[1;31mSympifyError\u001b[0m: Sympify of expression 'could not parse '<function thrust_direction at 0x000001B14DDA1DC0>'' failed, because of exception being raised:\nSyntaxError: invalid syntax (<string>, line 1)"
     ]
    }
   ],
   "source": [
    "lambdify([q,oe], thrust_direction, 'numpy')"
   ]
  },
  {
   "cell_type": "code",
   "execution_count": null,
   "id": "b808ab61",
   "metadata": {},
   "outputs": [],
   "source": []
  },
  {
   "cell_type": "code",
   "execution_count": null,
   "id": "15399342",
   "metadata": {},
   "outputs": [],
   "source": []
  },
  {
   "cell_type": "code",
   "execution_count": null,
   "id": "19761958",
   "metadata": {},
   "outputs": [],
   "source": []
  },
  {
   "cell_type": "code",
   "execution_count": null,
   "id": "b466e5a9",
   "metadata": {},
   "outputs": [],
   "source": []
  },
  {
   "cell_type": "code",
   "execution_count": null,
   "id": "3a53bed3",
   "metadata": {},
   "outputs": [],
   "source": []
  }
 ],
 "metadata": {
  "kernelspec": {
   "display_name": "Python 3 (ipykernel)",
   "language": "python",
   "name": "python3"
  },
  "language_info": {
   "codemirror_mode": {
    "name": "ipython",
    "version": 3
   },
   "file_extension": ".py",
   "mimetype": "text/x-python",
   "name": "python",
   "nbconvert_exporter": "python",
   "pygments_lexer": "ipython3",
   "version": "3.8.10"
  }
 },
 "nbformat": 4,
 "nbformat_minor": 5
}
