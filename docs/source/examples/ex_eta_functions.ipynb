{
 "cells": [
  {
   "cell_type": "markdown",
   "metadata": {},
   "source": [
    "# Providing dynamic efficiency threshold as function\n",
    "\n",
    "## Idea\n",
    "\n",
    "We can give the efficiency threshold as a function with the signature:\n",
    "\n",
    "```python\n",
    "def eta_r(t,oe,mass,battery):\n",
    "    # ... compute eta as a function of the inputs ...\n",
    "    return eta_r\n",
    "```\n",
    "\n",
    "For example, this can be a function based on the battery level:\n",
    "\n",
    "```python\n",
    "def eta_r(t,oe,mass,battery):\n",
    "    return min(400/(4*battery - battery_dod), 1)\n",
    "```\n",
    "\n",
    "## Demonstration\n",
    "\n",
    "We first do our imports and define the initial/final state and weights\n"
   ]
  },
  {
   "cell_type": "code",
   "execution_count": 1,
   "metadata": {},
   "outputs": [],
   "source": [
    "import numpy as np\n",
    "from numpy.random import rand\n",
    "import matplotlib.pyplot as plt\n",
    "import time\n",
    "\n",
    "import sys\n",
    "sys.path.append(\"../../../\")    # path to pyqlaw\n",
    "import pyqlaw"
   ]
  },
  {
   "cell_type": "code",
   "execution_count": 2,
   "metadata": {},
   "outputs": [],
   "source": [
    "# initial and final elements: [a,e,i,RAAN,omega,ta]\n",
    "LU = 42164.0\n",
    "GM_EARTH = 398600.44\n",
    "VU = np.sqrt(GM_EARTH/LU)\n",
    "TU = LU/VU\n",
    "\n",
    "rp_gto = 200 + 6378\n",
    "ra_gto = 35786 + 6378\n",
    "sma_gto = (rp_gto + ra_gto)/(2*LU)\n",
    "ecc_gto = (ra_gto - rp_gto)/(ra_gto + rp_gto)\n",
    "KEP0 = [sma_gto,ecc_gto,np.deg2rad(23),0,0,0]\n",
    "KEPF = [1,0,np.deg2rad(3),0,0,0]\n",
    "oe0 = pyqlaw.kep2mee_with_a(np.array(KEP0))\n",
    "oeT = pyqlaw.kep2mee_with_a(np.array(KEPF))\n",
    "woe = [3.0, 1.0, 1.0, 1.0, 1.0]\n",
    "\n",
    "# spacecraft parameters\n",
    "MU = 1500\n",
    "tmax_si = 1.0    # 1 N\n",
    "isp_si  = 1500   # seconds\n",
    "mdot_si = tmax_si/(isp_si*9.81)  # kg/s\n",
    "\n",
    "# non-dimensional quantities\n",
    "mass0 = 1.0\n",
    "tmax = tmax_si * (1/MU)*(TU**2/(1e3*LU))\n",
    "mdot = np.abs(mdot_si) *(TU/MU)\n",
    "tf_max = 10000.0\n",
    "t_step = np.deg2rad(15)"
   ]
  },
  {
   "cell_type": "markdown",
   "metadata": {},
   "source": [
    "Suppose we want to define eta as a function of battery; we define some battery related quantities\n"
   ]
  },
  {
   "cell_type": "code",
   "execution_count": 3,
   "metadata": {},
   "outputs": [],
   "source": [
    "# battery levels\n",
    "battery_initial = 3000*3600/TU            # Wh --> Ws --> W.TU\n",
    "battery_dod = 500*3600/TU\n",
    "battery_capacity = (battery_dod,battery_initial)\n",
    "charge_rate = 1500          # W\n",
    "discharge_rate = 500        # W\n",
    "battery_charge_discharge_rate = (charge_rate, discharge_rate)\n",
    "require_full_recharge = True"
   ]
  },
  {
   "cell_type": "markdown",
   "metadata": {},
   "source": [
    "We now construct the `QLaw` object, and set the problem with information about the battery. "
   ]
  },
  {
   "cell_type": "code",
   "execution_count": 4,
   "metadata": {},
   "outputs": [
    {
     "name": "stdout",
     "output_type": "stream",
     "text": [
      "Transfer:\n",
      "  a  : 5.7800e-01 -> 1.0000e+00 (weight: 3.00)\n",
      "  f  : 7.3009e-01 -> 0.0000e+00 (weight: 1.00)\n",
      "  g  : 0.0000e+00 -> 0.0000e+00 (weight: 1.00)\n",
      "  h  : 2.0345e-01 -> 2.6186e-02 (weight: 1.00)\n",
      "  k  : 0.0000e+00 -> 0.0000e+00 (weight: 1.00)\n"
     ]
    }
   ],
   "source": [
    "# construct problem\n",
    "prob = pyqlaw.QLaw(\n",
    "    integrator=\"rk4\", \n",
    "    elements_type=\"mee_with_a\",\n",
    "    verbosity=2,\n",
    "    print_frequency=500,\n",
    "    use_sundman = True,\n",
    ")\n",
    "\n",
    "# set problem\n",
    "prob.set_problem(oe0, oeT, mass0, tmax, mdot, tf_max, t_step,\n",
    "    battery_initial = battery_initial,\n",
    "    battery_capacity = battery_capacity,\n",
    "    battery_charge_discharge_rate = battery_charge_discharge_rate,\n",
    "    require_full_recharge = require_full_recharge,\n",
    "    woe = woe)\n",
    "prob.pretty()"
   ]
  },
  {
   "cell_type": "markdown",
   "metadata": {},
   "source": [
    "We now define the functions `eta_a()` and `eta_r()` that will be called at each step of the integration. Here, we make use of the relative efficiency only, so the `eta_a()` function is merely a placeholder (we might as well pass `eta_a=0.0` later), but is still defined as a function for the sake of demonstration. "
   ]
  },
  {
   "cell_type": "code",
   "execution_count": 5,
   "metadata": {},
   "outputs": [],
   "source": [
    "# efficiency functions\n",
    "def eta_a(t,oe,mass,battery):\n",
    "    return 0.0    # not using absolute efficiency threshold\n",
    "\n",
    "def eta_r(t,oe,mass,battery):\n",
    "    return min(400/(4*battery - battery_dod), 1)"
   ]
  },
  {
   "cell_type": "markdown",
   "metadata": {},
   "source": [
    "Finally, we call the `solve()` method of `prob`, passing the functions `eta_a` and `eta_r` as arguments"
   ]
  },
  {
   "cell_type": "code",
   "execution_count": 6,
   "metadata": {},
   "outputs": [
    {
     "name": "stdout",
     "output_type": "stream",
     "text": [
      "\n",
      " iter   |  time      |  del1       |  del2       |  del3       |  del4       |  del5       |  el6        |\n",
      "      0 |  3.201e-02 | -4.2200e-01 |  7.3009e-01 |  0.0000e+00 |  1.7727e-01 |  0.0000e+00 |  1.9244e-01 |\n",
      "    500 |  5.439e+01 | -3.8749e-01 |  6.7680e-01 |  3.2627e-02 |  1.3495e-01 |  7.6635e-03 |  1.3391e+02 |\n",
      "   1000 |  1.147e+02 | -3.4718e-01 |  6.1650e-01 |  6.3203e-02 |  9.4574e-02 |  1.3576e-02 |  2.5466e+02 |\n",
      "   1500 |  1.813e+02 | -2.8014e-01 |  5.3557e-01 |  9.1325e-02 |  5.4481e-02 |  1.4602e-02 |  3.6952e+02 |\n",
      "   2000 |  2.604e+02 | -1.7930e-01 |  4.2520e-01 |  1.0199e-01 |  2.4264e-02 |  1.2922e-02 |  4.8334e+02 |\n",
      "   2500 |  3.649e+02 | -1.0009e-02 |  2.3379e-01 |  8.4460e-02 |  6.2573e-03 |  7.9227e-03 |  5.9925e+02 |\n",
      "Target elements successfully reached!\n",
      "Exit code : 2\n",
      "Converge  : True\n",
      "Final state:\n",
      "  a  : 9.9974e-01 (error: 2.6158e-04)\n",
      "  f  : 6.1971e-05 (error: 6.1971e-05)\n",
      "  g  : 5.3825e-03 (error: 5.3825e-03)\n",
      "  h  : 2.6128e-02 (error: 5.7767e-05)\n",
      "  k  : 8.4103e-04 (error: 8.4103e-04)\n",
      "Transfer time : 468.2087335526886\n",
      "Final mass    : 0.8611810877238436\n"
     ]
    }
   ],
   "source": [
    "# solve\n",
    "tstart_solve = time.time()\n",
    "prob.solve(eta_a=eta_a, eta_r=eta_r)\n",
    "prob.pretty_results()"
   ]
  },
  {
   "cell_type": "markdown",
   "metadata": {},
   "source": [
    "and we can visualize the results"
   ]
  },
  {
   "cell_type": "code",
   "execution_count": null,
   "metadata": {},
   "outputs": [],
   "source": [
    "# plots\n",
    "fig1, ax1 = prob.plot_elements_history(to_keplerian=True, TU=TU/86400, time_unit_name=\"day\")\n",
    "fig2, ax2 = prob.plot_trajectory_3d(sphere_radius=0.1)\n",
    "fig3, ax3 = prob.plot_controls()\n",
    "fig4, ax4 = prob.plot_battery_history(TU=TU/86400, BU=TU/3600,\n",
    "    time_unit_name=\"day\", battery_unit_name=\"Wh\")\n",
    "fig5, ax5 = prob.plot_efficiency(TU=TU/86400, time_unit_name=\"day\")\n",
    "plt.show()"
   ]
  },
  {
   "cell_type": "code",
   "execution_count": null,
   "metadata": {},
   "outputs": [],
   "source": []
  },
  {
   "cell_type": "code",
   "execution_count": null,
   "metadata": {},
   "outputs": [],
   "source": []
  },
  {
   "cell_type": "code",
   "execution_count": null,
   "metadata": {},
   "outputs": [],
   "source": []
  }
 ],
 "metadata": {
  "kernelspec": {
   "display_name": "Python 3 (ipykernel)",
   "language": "python",
   "name": "python3"
  },
  "language_info": {
   "codemirror_mode": {
    "name": "ipython",
    "version": 3
   },
   "file_extension": ".py",
   "mimetype": "text/x-python",
   "name": "python",
   "nbconvert_exporter": "python",
   "pygments_lexer": "ipython3",
   "version": "3.11.0"
  }
 },
 "nbformat": 4,
 "nbformat_minor": 4
}
